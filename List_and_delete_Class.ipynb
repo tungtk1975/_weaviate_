{
 "cells": [
  {
   "cell_type": "code",
   "execution_count": null,
   "metadata": {},
   "outputs": [],
   "source": [
    "#Install first run only\n",
    "\n",
    "!pip install weaviate-client\n",
    "!pip install weaviate-client python-docx PyPDF2\n"
   ]
  },
  {
   "cell_type": "markdown",
   "metadata": {},
   "source": [
    "LIST ALL CLASS IN WEAVIATE SERVER"
   ]
  },
  {
   "cell_type": "code",
   "execution_count": 2,
   "metadata": {},
   "outputs": [
    {
     "name": "stdout",
     "output_type": "stream",
     "text": [
      "Class Name: Document\n",
      "Properties:\n",
      "  - Property Name: content_txt\n",
      "  - Property Name: filename\n",
      "------------------------------\n"
     ]
    }
   ],
   "source": [
    "import weaviate\n",
    "\n",
    "# Weaviate instance details\n",
    "weaviate_url = \"http://203.113.132.109:8080\"\n",
    "weaviate_client = weaviate.Client(url=weaviate_url)\n",
    "\n",
    "# Lấy danh sách các class từ Weaviate\n",
    "schema = weaviate_client.schema.get()\n",
    "classes_info = schema.get(\"classes\", [])\n",
    "\n",
    "# Lặp qua từng class và hiển thị thông tin\n",
    "for class_info in classes_info:\n",
    "    class_name = class_info.get(\"class\", \"\")\n",
    "    print(f\"Class Name: {class_name}\")\n",
    "    print(\"Properties:\")\n",
    "\n",
    "    # Lấy danh sách thuộc tính từ class_info\n",
    "    properties = class_info.get(\"properties\", [])\n",
    "\n",
    "    # Kiểm tra xem properties có phải là list không\n",
    "    if isinstance(properties, list):\n",
    "        for prop_info in properties:\n",
    "            prop_name = prop_info.get(\"name\", \"\")\n",
    "            print(f\"  - Property Name: {prop_name}\")        \n",
    "    else:\n",
    "        # Nếu properties không phải là list, giả sử đó là dictionary\n",
    "        for prop_name, prop_info in properties.items():\n",
    "            print(f\"  - Property Name: {prop_name}\")\n",
    "    print(\"-\" * 30)\n"
   ]
  },
  {
   "cell_type": "markdown",
   "metadata": {},
   "source": [
    "------------- The code below has the purpose of deleting the class created in the previous step ----------------------"
   ]
  },
  {
   "cell_type": "code",
   "execution_count": 2,
   "metadata": {},
   "outputs": [],
   "source": [
    "# Connect to the Weaviate server on Mac Studio. Skip this step if you have already done so.\n",
    "\n",
    "import weaviate\n",
    "\n",
    "# Weaviate instance details\n",
    "weaviate_url = \"http://203.113.132.109:8080\"\n",
    "weaviate_client = weaviate.Client(url=weaviate_url)"
   ]
  },
  {
   "cell_type": "code",
   "execution_count": 3,
   "metadata": {},
   "outputs": [],
   "source": [
    "# Specify the class name you want to delete. Note that the class name has to be created beforehand.\n",
    "class_name = \"Document\""
   ]
  },
  {
   "cell_type": "code",
   "execution_count": 4,
   "metadata": {},
   "outputs": [
    {
     "name": "stdout",
     "output_type": "stream",
     "text": [
      "All objects of class Document deleted successfully.\n",
      "Class Document deleted successfully.\n"
     ]
    }
   ],
   "source": [
    "\n",
    "# Retrieve and delete all objects of the specified class\n",
    "try:\n",
    "    # Retrieve all objects in the class\n",
    "    response = weaviate_client.data_object.get(\n",
    "        class_name=class_name, \n",
    "        limit=100  # Adjust the limit based on your expected number of objects\n",
    "    )\n",
    "\n",
    "    # Check if 'objects' key is in response\n",
    "    if 'objects' in response:\n",
    "        objects = response['objects']\n",
    "\n",
    "        # Iterate and delete each object using its UUID\n",
    "        for obj in objects:\n",
    "            uuid = obj[\"id\"]\n",
    "            weaviate_client.data_object.delete(class_name=class_name, uuid=uuid)\n",
    "\n",
    "        print(f\"All objects of class {class_name} deleted successfully.\")\n",
    "    else:\n",
    "        print(\"No 'objects' key found in response.\")\n",
    "except Exception as e:\n",
    "    print(f\"Error retrieving or deleting objects of class {class_name}: {e}\")\n",
    "\n",
    "# Delete the class itself\n",
    "try:\n",
    "    weaviate_client.schema.delete_class(class_name)\n",
    "    print(f\"Class {class_name} deleted successfully.\")\n",
    "except Exception as e:\n",
    "    print(f\"Error deleting class {class_name}: {e}\")\n"
   ]
  }
 ],
 "metadata": {
  "kernelspec": {
   "display_name": "tungtk",
   "language": "python",
   "name": "python3"
  },
  "language_info": {
   "codemirror_mode": {
    "name": "ipython",
    "version": 3
   },
   "file_extension": ".py",
   "mimetype": "text/x-python",
   "name": "python",
   "nbconvert_exporter": "python",
   "pygments_lexer": "ipython3",
   "version": "3.10.13"
  }
 },
 "nbformat": 4,
 "nbformat_minor": 2
}
