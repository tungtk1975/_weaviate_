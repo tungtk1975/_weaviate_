{
 "cells": [
  {
   "cell_type": "code",
   "execution_count": 1,
   "metadata": {},
   "outputs": [
    {
     "name": "stdout",
     "output_type": "stream",
     "text": [
      "File format not supported: .DS_Store\n",
      "Completed storing text segments into Weaviate.\n"
     ]
    }
   ],
   "source": [
    "import os\n",
    "import weaviate\n",
    "from transformers import AutoTokenizer, AutoModel\n",
    "import torch\n",
    "from docx import Document\n",
    "\n",
    "# Set up connection to Weaviate\n",
    "client = weaviate.Client(\"http://203.113.132.109:8080\")\n",
    "\n",
    "# Check and create the Document class if it doesn't exist\n",
    "class_schema = {\n",
    "    \"class\": \"Document\",\n",
    "    \"properties\": [\n",
    "        {\"name\": \"content_txt\", \"dataType\": [\"text\"]},\n",
    "        {\"name\": \"filename\", \"dataType\": [\"string\"]}\n",
    "    ]\n",
    "}\n",
    "\n",
    "if \"Document\" not in client.schema.get()['classes']:\n",
    "    client.schema.create_class(class_schema)\n",
    "\n",
    "# Load the transformer model\n",
    "model_name = \"sentence-transformers/multi-qa-MiniLM-L6-cos-v1\"\n",
    "tokenizer = AutoTokenizer.from_pretrained(model_name)\n",
    "model = AutoModel.from_pretrained(model_name)\n",
    "\n",
    "def vectorize(text):\n",
    "    inputs = tokenizer(text, return_tensors=\"pt\", truncation=True, max_length=512)\n",
    "    with torch.no_grad():\n",
    "        vectors = model(**inputs)\n",
    "    return vectors.last_hidden_state.mean(dim=1).numpy()[0]\n",
    "\n",
    "def read_docx(file_path):\n",
    "    \"\"\"Read and return the text content of a .docx file.\"\"\"\n",
    "    doc = Document(file_path)\n",
    "    full_text = []\n",
    "    for para in doc.paragraphs:\n",
    "        full_text.append(para.text)\n",
    "    return '\\n'.join(full_text)\n",
    "\n",
    "def process_file(file_path, filename):\n",
    "    \"\"\"Process a file based on its format.\"\"\"\n",
    "    if filename.endswith('.txt'):\n",
    "        with open(file_path, 'r', encoding='utf-8') as file:\n",
    "            content = file.read()\n",
    "    elif filename.endswith('.docx'):\n",
    "        content = read_docx(file_path)\n",
    "    else:\n",
    "        print(f\"File format not supported: {filename}\")\n",
    "        return\n",
    "\n",
    "    segments = [content[i:i+512] for i in range(0, len(content), 512)]\n",
    "\n",
    "    for segment in segments:\n",
    "        vector = vectorize(segment)\n",
    "        document_data = {\n",
    "            \"content_txt\": segment,\n",
    "            \"filename\": filename\n",
    "        }\n",
    "        client.data_object.create(document_data, \"Document\", vector=vector)\n",
    "\n",
    "# Read and process files\n",
    "data_dir = \"data\"\n",
    "for filename in os.listdir(data_dir):\n",
    "    file_path = os.path.join(data_dir, filename)\n",
    "    process_file(file_path, filename)\n",
    "\n",
    "print(\"Completed storing text segments into Weaviate.\")\n"
   ]
  }
 ],
 "metadata": {
  "kernelspec": {
   "display_name": "tungtk",
   "language": "python",
   "name": "python3"
  },
  "language_info": {
   "codemirror_mode": {
    "name": "ipython",
    "version": 3
   },
   "file_extension": ".py",
   "mimetype": "text/x-python",
   "name": "python",
   "nbconvert_exporter": "python",
   "pygments_lexer": "ipython3",
   "version": "3.10.13"
  }
 },
 "nbformat": 4,
 "nbformat_minor": 2
}
